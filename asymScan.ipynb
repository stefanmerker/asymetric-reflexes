{
 "cells": [
  {
   "cell_type": "markdown",
   "id": "0ddf9fc5-0d9c-485c-8314-351d78085f23",
   "metadata": {},
   "source": [
    "# 1. Pfad zur Struktur und Orientierung eintragen"
   ]
  },
  {
   "cell_type": "code",
   "execution_count": null,
   "id": "75a885a6-9386-4f56-bbb1-57ef0f6b85f4",
   "metadata": {},
   "outputs": [],
   "source": [
    "CIF_Dateiname = 'Al2O3_52024.cif'\n",
    "Orientierung = [0, 0, 1]"
   ]
  },
  {
   "cell_type": "markdown",
   "id": "89a75c2a-d166-4f56-ae9c-3243e2cad2e0",
   "metadata": {
    "jp-MarkdownHeadingCollapsed": true
   },
   "source": [
    "# 2. Run"
   ]
  },
  {
   "cell_type": "code",
   "execution_count": null,
   "id": "bf6ec5bb-237b-463e-a7dd-7f41a639c99c",
   "metadata": {},
   "outputs": [],
   "source": [
    "import sys, os\n",
    "import numpy as np\n",
    "import matplotlib.pyplot as plt\n",
    "import pandas as pd\n",
    "import re\n",
    "\n",
    "import Dans_Diffraction as dif\n",
    "\n",
    "print(dif.module_info())"
   ]
  },
  {
   "cell_type": "code",
   "execution_count": null,
   "id": "5cd7add1-4992-4f5b-88cb-defa587df5d6",
   "metadata": {},
   "outputs": [],
   "source": [
    "xtl = dif.Crystal(CIF_Dateiname)\n",
    "\n",
    "print(xtl)"
   ]
  },
  {
   "cell_type": "code",
   "execution_count": null,
   "id": "f0a60f14-fb95-47e5-862b-e313148fe54e",
   "metadata": {},
   "outputs": [],
   "source": [
    "xtl.Scatter.setup_scatter(wavelength_a = 1.54059295, min_theta = 0, specular = Orientierung)"
   ]
  },
  {
   "cell_type": "code",
   "execution_count": null,
   "id": "55caac66-c1b3-45fa-8e63-0733ed9ebc79",
   "metadata": {},
   "outputs": [],
   "source": [
    "xtl.Scatter.print_ref_reflections()"
   ]
  },
  {
   "cell_type": "code",
   "execution_count": null,
   "id": "3d3029cb-18b6-4498-9b98-6847a781e8d7",
   "metadata": {},
   "outputs": [],
   "source": [
    "columns = ['h', 'k', 'l', '2th', 'I']\n",
    "zeilen = [string.replace(' ', '') for string in [s[1:9] + ',' + s[10:19] + ',' + s[28:] for s in xtl.Scatter.print_ref_reflections().split('\\n')[4:-2]]]\n",
    "\n",
    "data_list = [line.split(',') for line in zeilen]\n",
    "\n",
    "df = pd.DataFrame(data_list, columns=columns)\n",
    "\n",
    "df = df.apply(pd.to_numeric, errors='coerce')\n",
    "\n",
    "df['Struktur'] = CIF_Dateiname\n",
    "df['Indexsumme'] = df.apply(lambda row: row['h'] + row['k'] + row['l'], axis=1)\n",
    "\n",
    "df = df.sort_values(by=['I', 'Indexsumme', 'h', '', 'l'], ascending=[False, False, True, True, True])\n",
    "\n",
    "df['rel I'] = df['I']/df['I'].max()\n",
    "df['hkl'] = df.apply(lambda row: [row['h'], row['k'], row['l']], axis=1)\n",
    "\n",
    "df['rho'] = df.apply(lambda row: xtl.Cell.angle(row['hkl'], xtl.Scatter._scattering_specular_direction), axis=1)\n",
    "df['omega'] = df['2th']/2 - df['rho']\n",
    "\n",
    "df.head(20)"
   ]
  },
  {
   "cell_type": "markdown",
   "id": "8f2c9671-a9b2-4e66-bd69-fd435fc8ab17",
   "metadata": {},
   "source": [
    "# 3. Liste der asymetrischen Refelxe, die von oben messbar wären."
   ]
  },
  {
   "cell_type": "code",
   "execution_count": null,
   "id": "303204d3-b2d7-476b-9f7d-7298bb2dadfb",
   "metadata": {},
   "outputs": [],
   "source": [
    "sdf = df[(df['rho'] != 0) & (df['omega'] > 0) & (df['2th'] < 125) & (df['rel I'] > 0.001)]\n",
    "udf = sdf.drop_duplicates(subset=['2th', 'I'])\n",
    "head = ['hkl', '2th', 'Struktur', 'rel I', 'rho', 'omega']\n",
    "udf[head]"
   ]
  }
 ],
 "metadata": {
  "kernelspec": {
   "display_name": "Python 3 (ipykernel)",
   "language": "python",
   "name": "python3"
  },
  "language_info": {
   "codemirror_mode": {
    "name": "ipython",
    "version": 3
   },
   "file_extension": ".py",
   "mimetype": "text/x-python",
   "name": "python",
   "nbconvert_exporter": "python",
   "pygments_lexer": "ipython3",
   "version": "3.12.0"
  }
 },
 "nbformat": 4,
 "nbformat_minor": 5
}
